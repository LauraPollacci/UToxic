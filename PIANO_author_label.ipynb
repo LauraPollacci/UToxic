{
 "cells": [
  {
   "cell_type": "markdown",
   "id": "3274f0e4",
   "metadata": {},
   "source": [
    "Authors annotation (classes for classification)\n",
    "<br>\n",
    "Shallow annotation: to assign understandable labels to toxic behaviours, such as \"racist wrt religions/communities\", and \"sexual offender\", ...\n"
   ]
  },
  {
   "cell_type": "code",
   "execution_count": 1,
   "id": "040afc75",
   "metadata": {},
   "outputs": [
    {
     "name": "stderr",
     "output_type": "stream",
     "text": [
      "/Users/jacopogneri/opt/anaconda3/lib/python3.9/site-packages/pandas/core/computation/expressions.py:21: UserWarning: Pandas requires version '2.8.4' or newer of 'numexpr' (version '2.8.1' currently installed).\n",
      "  from pandas.core.computation.check import NUMEXPR_INSTALLED\n",
      "/Users/jacopogneri/opt/anaconda3/lib/python3.9/site-packages/pandas/core/arrays/masked.py:60: UserWarning: Pandas requires version '1.3.6' or newer of 'bottleneck' (version '1.3.4' currently installed).\n",
      "  from pandas.core import (\n"
     ]
    }
   ],
   "source": [
    "#useful libraries\n",
    "import pandas as pd\n",
    "from sklearn.cluster import KMeans, DBSCAN\n",
    "import matplotlib.pyplot as plt\n",
    "import seaborn as sns\n",
    "from sklearn.preprocessing import StandardScaler\n",
    "from kneed import KneeLocator\n",
    "import numpy as np\n",
    "from sklearn.metrics import silhouette_score\n",
    "from sklearn.preprocessing import MinMaxScaler\n",
    "scaler = MinMaxScaler()"
   ]
  },
  {
   "cell_type": "code",
   "execution_count": 2,
   "id": "5bd6ae31",
   "metadata": {},
   "outputs": [],
   "source": [
    "df_user = pd.read_csv(\"../file_csv/PIANO_user.csv\")"
   ]
  },
  {
   "cell_type": "code",
   "execution_count": 3,
   "id": "fccdc293",
   "metadata": {},
   "outputs": [
    {
     "name": "stdout",
     "output_type": "stream",
     "text": [
      "CPU times: user 1min 31s, sys: 43 s, total: 2min 14s\n",
      "Wall time: 2min 24s\n"
     ]
    }
   ],
   "source": [
    "%%time\n",
    "df_comments = pd.read_csv(\"../file_csv/PIANO_comments.csv\")"
   ]
  },
  {
   "cell_type": "code",
   "execution_count": 4,
   "id": "77fe5514",
   "metadata": {},
   "outputs": [
    {
     "data": {
      "text/plain": [
       "((15721, 181), (8724581, 71))"
      ]
     },
     "execution_count": 4,
     "metadata": {},
     "output_type": "execute_result"
    }
   ],
   "source": [
    "df_user.shape, df_comments.shape"
   ]
  },
  {
   "cell_type": "markdown",
   "id": "cf1b3964",
   "metadata": {},
   "source": [
    "<h2>Ratio between number of comments and number of subreddit in which every user comments </h2>"
   ]
  },
  {
   "cell_type": "code",
   "execution_count": 5,
   "id": "7077184a",
   "metadata": {},
   "outputs": [],
   "source": [
    "#ratio between 0 and 1, if close to 1 the user focuses the commments in a low number of subreddit\n",
    "df_user[\"ratio\"] = scaler.fit_transform((df_user['nbr_posts'] / df_user['nbr_subreddit']).values.reshape(-1, 1))\n",
    "df_user[\"ratio_toxic\"] = scaler.fit_transform((df_user['toxic_posts'] / df_user['nbr_subreddit']).values.reshape(-1, 1))"
   ]
  },
  {
   "cell_type": "markdown",
   "id": "81e9eda5",
   "metadata": {},
   "source": [
    "Analysis of percentage of toxic comments"
   ]
  },
  {
   "cell_type": "code",
   "execution_count": 8,
   "id": "6d72c563",
   "metadata": {},
   "outputs": [],
   "source": [
    "df_user[\"perc\"] = round((df_user[\"toxic_posts\"]/df_user[\"nbr_posts\"])*100)"
   ]
  },
  {
   "cell_type": "code",
   "execution_count": 9,
   "id": "fd56c61e",
   "metadata": {},
   "outputs": [
    {
     "data": {
      "image/png": "[encoded data removed]",
      "text/plain": [
       "<Figure size 432x288 with 1 Axes>"
      ]
     },
     "metadata": {
      "needs_background": "light"
     },
     "output_type": "display_data"
    }
   ],
   "source": [
    "plt.hist(df_user[\"perc\"], bins = 10, edgecolor = 'black')\n",
    "plt.xlabel('Values')\n",
    "plt.ylabel('Frequency')\n",
    "plt.title('perc Distribution')\n",
    "\n",
    "# Mostra l'istogramma\n",
    "plt.show()\n"
   ]
  },
  {
   "cell_type": "code",
   "execution_count": 10,
   "id": "8881ced5",
   "metadata": {},
   "outputs": [
    {
     "name": "stdout",
     "output_type": "stream",
     "text": [
      "0 50.11131607404109 7878\n",
      "1 36.95693658164239 5810\n",
      "2 9.45232491571783 1486\n",
      "3 2.2326823993384646 351\n",
      "4 0.44526429616436614 70\n",
      "5 0.4134597035811971 65\n",
      "6 0.08905285923287323 14\n",
      "7 0.02544367406653521 4\n",
      "8 0.03816551109980281 6\n",
      "9 0.23535398511545066 37\n"
     ]
    }
   ],
   "source": [
    "freq, bins = np.histogram(df_user[\"perc\"], bins=10) #15721\n",
    "for i in range(0, 10):\n",
    "    print(i, (freq[i]/len(df_user)*100), freq[i])"
   ]
  },
  {
   "cell_type": "code",
   "execution_count": 11,
   "id": "48b4fb7d",
   "metadata": {},
   "outputs": [],
   "source": [
    "df_tox_comments = df_comments[df_comments[\"toxic\"]==1]\n",
    "df_tox_users = df_user[df_user[\"perc\"] >= 10.0]"
   ]
  },
  {
   "cell_type": "code",
   "execution_count": 12,
   "id": "7bedd55d",
   "metadata": {},
   "outputs": [
    {
     "data": {
      "text/plain": [
       "((961251, 71), (7843, 184))"
      ]
     },
     "execution_count": 12,
     "metadata": {},
     "output_type": "execute_result"
    }
   ],
   "source": [
    "df_tox_comments.shape, df_tox_users.shape"
   ]
  },
  {
   "cell_type": "markdown",
   "id": "417d1d0d",
   "metadata": {},
   "source": [
    "<h3>Label definition for the authors: <h3>\n",
    "\n",
    "<ol>Binary (Toxic vs Non-toxic)</ol>\n",
    "<ol>5 labels</ol>\n"
   ]
  },
  {
   "cell_type": "code",
   "execution_count": 13,
   "id": "01947fa0",
   "metadata": {},
   "outputs": [],
   "source": [
    "def toxic_author(x):\n",
    "    #comments of every user\n",
    "    filtered_comments = df_tox_comments[df_tox_comments['author'] == x]\n",
    "    \n",
    "    #Average value for different toxicities\n",
    "    tox_means = {\n",
    "        \"vulgarity\": filtered_comments[\"obscene\"].mean(),\n",
    "        \"harassment\": filtered_comments[\"insult\"].mean(),\n",
    "        \"violence\": filtered_comments[\"threat\"].mean(),\n",
    "        \"racism\": filtered_comments[\"identity_attack\"].mean()\n",
    "    }\n",
    "    \n",
    "    #highest average \n",
    "    max_tox = max(tox_means, key=tox_means.get)\n",
    "    \n",
    "    return max_tox"
   ]
  },
  {
   "cell_type": "code",
   "execution_count": 14,
   "id": "bbbc7fb6",
   "metadata": {},
   "outputs": [
    {
     "name": "stderr",
     "output_type": "stream",
     "text": [
      "/var/folders/5p/ssqpg4td2mn8_4_dm85f8n5m0000gn/T/ipykernel_12859/1777482518.py:1: SettingWithCopyWarning: \n",
      "A value is trying to be set on a copy of a slice from a DataFrame.\n",
      "Try using .loc[row_indexer,col_indexer] = value instead\n",
      "\n",
      "See the caveats in the documentation: https://pandas.pydata.org/pandas-docs/stable/user_guide/indexing.html#returning-a-view-versus-a-copy\n",
      "  df_tox_users[\"toxic_annotation\"] = df_tox_users[\"author\"].apply(toxic_author)\n"
     ]
    }
   ],
   "source": [
    "df_tox_users[\"toxic_annotation\"] = df_tox_users[\"author\"].apply(toxic_author)"
   ]
  },
  {
   "cell_type": "code",
   "execution_count": 15,
   "id": "1fbda369",
   "metadata": {},
   "outputs": [
    {
     "data": {
      "text/plain": [
       "toxic_annotation\n",
       "vulgarity     7496\n",
       "harassment     297\n",
       "racism          34\n",
       "violence        16\n",
       "Name: count, dtype: int64"
      ]
     },
     "execution_count": 15,
     "metadata": {},
     "output_type": "execute_result"
    }
   ],
   "source": [
    "df_tox_users[\"toxic_annotation\"].value_counts()"
   ]
  },
  {
   "cell_type": "code",
   "execution_count": 16,
   "id": "c7f18a4a",
   "metadata": {},
   "outputs": [
    {
     "data": {
      "image/png": "[encoded data removed]",
      "text/plain": [
       "<Figure size 432x288 with 1 Axes>"
      ]
     },
     "metadata": {
      "needs_background": "light"
     },
     "output_type": "display_data"
    }
   ],
   "source": [
    "sns.countplot(x='toxic_annotation', data=df_tox_users) #perc>=10.0\n",
    "plt.show()"
   ]
  },
  {
   "cell_type": "code",
   "execution_count": 17,
   "id": "77abd00e",
   "metadata": {},
   "outputs": [],
   "source": [
    "df_merge = df_tox_users.iloc[:, [0,184]]"
   ]
  },
  {
   "cell_type": "code",
   "execution_count": 18,
   "id": "5a711b88",
   "metadata": {},
   "outputs": [
    {
     "data": {
      "text/html": [
       "<div>\n",
       "<style scoped>\n",
       "    .dataframe tbody tr th:only-of-type {\n",
       "        vertical-align: middle;\n",
       "    }\n",
       "\n",
       "    .dataframe tbody tr th {\n",
       "        vertical-align: top;\n",
       "    }\n",
       "\n",
       "    .dataframe thead th {\n",
       "        text-align: right;\n",
       "    }\n",
       "</style>\n",
       "<table border=\"1\" class=\"dataframe\">\n",
       "  <thead>\n",
       "    <tr style=\"text-align: right;\">\n",
       "      <th></th>\n",
       "      <th>author</th>\n",
       "      <th>toxic_annotation</th>\n",
       "    </tr>\n",
       "  </thead>\n",
       "  <tbody>\n",
       "    <tr>\n",
       "      <th>0</th>\n",
       "      <td>t2_100w5k</td>\n",
       "      <td>vulgarity</td>\n",
       "    </tr>\n",
       "    <tr>\n",
       "      <th>3</th>\n",
       "      <td>t2_1023m3xz</td>\n",
       "      <td>vulgarity</td>\n",
       "    </tr>\n",
       "    <tr>\n",
       "      <th>4</th>\n",
       "      <td>t2_102eed5v</td>\n",
       "      <td>harassment</td>\n",
       "    </tr>\n",
       "    <tr>\n",
       "      <th>7</th>\n",
       "      <td>t2_102q28</td>\n",
       "      <td>vulgarity</td>\n",
       "    </tr>\n",
       "    <tr>\n",
       "      <th>8</th>\n",
       "      <td>t2_102q4l</td>\n",
       "      <td>vulgarity</td>\n",
       "    </tr>\n",
       "    <tr>\n",
       "      <th>...</th>\n",
       "      <td>...</td>\n",
       "      <td>...</td>\n",
       "    </tr>\n",
       "    <tr>\n",
       "      <th>15713</th>\n",
       "      <td>t2_zxwos</td>\n",
       "      <td>vulgarity</td>\n",
       "    </tr>\n",
       "    <tr>\n",
       "      <th>15714</th>\n",
       "      <td>t2_zyj2s</td>\n",
       "      <td>vulgarity</td>\n",
       "    </tr>\n",
       "    <tr>\n",
       "      <th>15715</th>\n",
       "      <td>t2_zyj69</td>\n",
       "      <td>vulgarity</td>\n",
       "    </tr>\n",
       "    <tr>\n",
       "      <th>15716</th>\n",
       "      <td>t2_zykuy</td>\n",
       "      <td>vulgarity</td>\n",
       "    </tr>\n",
       "    <tr>\n",
       "      <th>15719</th>\n",
       "      <td>t2_zzrbf</td>\n",
       "      <td>vulgarity</td>\n",
       "    </tr>\n",
       "  </tbody>\n",
       "</table>\n",
       "<p>7843 rows × 2 columns</p>\n",
       "</div>"
      ],
      "text/plain": [
       "            author toxic_annotation\n",
       "0        t2_100w5k        vulgarity\n",
       "3      t2_1023m3xz        vulgarity\n",
       "4      t2_102eed5v       harassment\n",
       "7        t2_102q28        vulgarity\n",
       "8        t2_102q4l        vulgarity\n",
       "...            ...              ...\n",
       "15713     t2_zxwos        vulgarity\n",
       "15714     t2_zyj2s        vulgarity\n",
       "15715     t2_zyj69        vulgarity\n",
       "15716     t2_zykuy        vulgarity\n",
       "15719     t2_zzrbf        vulgarity\n",
       "\n",
       "[7843 rows x 2 columns]"
      ]
     },
     "execution_count": 18,
     "metadata": {},
     "output_type": "execute_result"
    }
   ],
   "source": [
    "df_merge"
   ]
  },
  {
   "cell_type": "code",
   "execution_count": 19,
   "id": "e36ca7a6",
   "metadata": {},
   "outputs": [],
   "source": [
    "df_users_merged = pd.merge(df_user, df_merge, on='author', how='left')"
   ]
  },
  {
   "cell_type": "code",
   "execution_count": 20,
   "id": "56dbf5cc",
   "metadata": {},
   "outputs": [
    {
     "name": "stderr",
     "output_type": "stream",
     "text": [
      "/var/folders/5p/ssqpg4td2mn8_4_dm85f8n5m0000gn/T/ipykernel_12859/1205731220.py:1: FutureWarning: A value is trying to be set on a copy of a DataFrame or Series through chained assignment using an inplace method.\n",
      "The behavior will change in pandas 3.0. This inplace method will never work because the intermediate object on which we are setting values always behaves as a copy.\n",
      "\n",
      "For example, when doing 'df[col].method(value, inplace=True)', try using 'df.method({col: value}, inplace=True)' or df[col] = df[col].method(value) instead, to perform the operation inplace on the original object.\n",
      "\n",
      "\n",
      "  df_users_merged['toxic_annotation'].fillna(\"non-toxicity\", inplace=True)\n"
     ]
    }
   ],
   "source": [
    "df_users_merged['toxic_annotation'].fillna(\"non-toxicity\", inplace=True)"
   ]
  },
  {
   "cell_type": "code",
   "execution_count": 21,
   "id": "c909d738",
   "metadata": {},
   "outputs": [
    {
     "data": {
      "text/plain": [
       "toxic_annotation\n",
       "non-toxicity    7878\n",
       "vulgarity       7496\n",
       "harassment       297\n",
       "racism            34\n",
       "violence          16\n",
       "Name: count, dtype: int64"
      ]
     },
     "execution_count": 21,
     "metadata": {},
     "output_type": "execute_result"
    }
   ],
   "source": [
    "df_users_merged[\"toxic_annotation\"].value_counts()"
   ]
  },
  {
   "cell_type": "code",
   "execution_count": 24,
   "id": "7a02a878",
   "metadata": {},
   "outputs": [],
   "source": [
    "df_users_merged = df_users_merged.fillna(0)"
   ]
  },
  {
   "cell_type": "code",
   "execution_count": 25,
   "id": "f2603ca9",
   "metadata": {},
   "outputs": [],
   "source": [
    "df_users_merged.to_csv(\"../file_csv/df_users_annotated_10.csv\", index = False)"
   ]
  }
 ],
 "metadata": {
  "kernelspec": {
   "display_name": "Python 3 (ipykernel)",
   "language": "python",
   "name": "python3"
  },
  "language_info": {
   "codemirror_mode": {
    "name": "ipython",
    "version": 3
   },
   "file_extension": ".py",
   "mimetype": "text/x-python",
   "name": "python",
   "nbconvert_exporter": "python",
   "pygments_lexer": "ipython3",
   "version": "3.9.12"
  }
 },
 "nbformat": 4,
 "nbformat_minor": 5
}
